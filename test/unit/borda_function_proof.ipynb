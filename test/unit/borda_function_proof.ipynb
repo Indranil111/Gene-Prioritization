{
 "cells": [
  {
   "cell_type": "code",
   "execution_count": 1,
   "metadata": {
    "collapsed": true
   },
   "outputs": [],
   "source": [
    "#                       Borda count\n",
    "#                       (for Pearson's statistic)\n",
    "import numpy as np"
   ]
  },
  {
   "cell_type": "code",
   "execution_count": 2,
   "metadata": {
    "collapsed": true
   },
   "outputs": [],
   "source": [
    "def sum_permutation_to_borda_count(borda_count, vote_rank, vote_perm):\n",
    "    \"\"\" incrementally update count by borda weighted vote in a subsample of the full borda size\n",
    "\n",
    "    Args:\n",
    "        vote_rank: (np.int_(vote_rank)) python rank array same size as borda_count (0 == first, 1 == second,...)\n",
    "        borda_count: (np.int_(borda_count) ) the current running total of Borda weighted votes\n",
    "        vote_perm: the sample permutation of the vote ranking\n",
    "\n",
    "    Returns:\n",
    "        borda_count: input borda_count with the weighted votes added\n",
    "    \"\"\"\n",
    "    rank_array = np.int_(sorted(np.arange(0, vote_rank.size) + 1, reverse=True))\n",
    "    borda_count[vote_perm] += rank_array[np.int_(vote_rank)]\n",
    "    \n",
    "    return borda_count"
   ]
  },
  {
   "cell_type": "code",
   "execution_count": 3,
   "metadata": {
    "collapsed": false
   },
   "outputs": [
    {
     "name": "stdout",
     "output_type": "stream",
     "text": [
      "borda_count:\t\t[0 0 0 0 0]\n",
      "vote_rank:\t\t[0 3 1 2]\n",
      "permutaiton:\t\t[2 1 4 3]\n",
      "\n",
      "expected borda:\t\t[0 1 4 2 3]\n",
      "\n",
      "returned borda:\t\t[0 1 4 2 3]\n",
      "\n",
      "\n",
      "reiterate voting with a new permutation:\n",
      "vote_rank:\t\t[1 0 2 3]\n",
      "permutaiton:\t\t[1 2 3 0]\n",
      "\n",
      "expected borda:\t\t[1 4 8 4 3]\n",
      "\n",
      "returned borda:\t\t[1 4 8 4 3]\n",
      "\n",
      "\n",
      "reiterate voting with a new permutation:\n",
      "vote_rank:\t\t[2 0 1 3]\n",
      "permutaiton:\t\t[0 3 1 2]\n",
      "\n",
      "expected borda:\t\t[3 7 9 8 3]\n",
      "\n",
      "returned borda:\t\t[3 7 9 8 3]\n"
     ]
    }
   ],
   "source": [
    "#  demonstrate rationale for permuted borda count ranking & correctness of function -- unit test source:\n",
    "borda_count = np.array([0,0,0,0,0])\n",
    "vote_rank = np.array([0,3,1,2])\n",
    "vote_perm = np.array([2,1,4,3])\n",
    "# with vote ranking: 0 as 4 points, 1 as 3 points,  2 as 2, 3 as 1, (4 is outside the index range)\n",
    "# the expected outcome is\n",
    "borda_expected = np.array([0,1,4,2,3]);  # because\n",
    "# the first member of vote_perm is vote_rank 0 so borda[2] = 4\n",
    "# the second member of vote_perm is vote_rank 3 so the borda[1] = 1\n",
    "# the third member of vote_perm is borda_count position four with rank 1 so the borda[4] = 3\n",
    "# the fourth member of vote_perm is borda_count position three with rank 2 so the borda[3] = 2\n",
    "# zero (position one) is not in the vote_perm permutation so borda[0] does not change (= 0)\n",
    "print('borda_count:\\t\\t{}\\nvote_rank:\\t\\t{}\\npermutaiton:\\t\\t{}\\n'.format(borda_count, vote_rank, vote_perm))\n",
    "print('expected borda:\\t\\t{}'.format(borda_expected))\n",
    "borda_returnded = sum_permutation_to_borda_count(borda_count, vote_rank, vote_perm)\n",
    "print('\\nreturned borda:\\t\\t{}'.format(borda_returnded))\n",
    "\n",
    "# reiterate voting with a new permutation:\n",
    "vote_rank = np.array([1,0,2,3])\n",
    "vote_perm = np.array([1,2,3,0])\n",
    "print('\\n\\nreiterate voting with a new permutation:')\n",
    "print('vote_rank:\\t\\t{}\\npermutaiton:\\t\\t{}\\n'.format(vote_rank, vote_perm))\n",
    "borda_expected = np.array([1,4,8,4,3]);\n",
    "borda_returnded = sum_permutation_to_borda_count(borda_count, vote_rank, vote_perm)\n",
    "print('expected borda:\\t\\t{}'.format(borda_expected))\n",
    "print('\\nreturned borda:\\t\\t{}'.format(borda_returnded))\n",
    "\n",
    "# reiterate voting with a new permutation:\n",
    "vote_rank = np.array([2,0,1,3]) #2 0 1 3\n",
    "vote_perm = np.array([0,3,1,2]) #0 3 1 2\n",
    "print('\\n\\nreiterate voting with a new permutation:')\n",
    "print('vote_rank:\\t\\t{}\\npermutaiton:\\t\\t{}\\n'.format(vote_rank, vote_perm))\n",
    "borda_expected = np.array([3,7,9,8,3]); # 3 7 9 8 3\n",
    "borda_returnded = sum_permutation_to_borda_count(borda_count, vote_rank, vote_perm)\n",
    "print('expected borda:\\t\\t{}'.format(borda_expected))\n",
    "print('\\nreturned borda:\\t\\t{}'.format(borda_returnded))"
   ]
  },
  {
   "cell_type": "code",
   "execution_count": 8,
   "metadata": {
    "collapsed": false
   },
   "outputs": [
    {
     "name": "stdout",
     "output_type": "stream",
     "text": [
      "Expected total 7750000 vs I: 7750000 vs S: 7750000\n"
     ]
    }
   ],
   "source": [
    "#                      examine assumptions in development versions of function:\n",
    "c_candidates = 124\n",
    "n_voters = 1000;\n",
    "expect_total_count = (sum(np.arange(0, c_candidates) + 1)) * n_voters\n",
    "\n",
    "borda_count_I = np.int_(np.zeros(c_candidates))\n",
    "borda_count_S = np.int_(np.zeros(c_candidates))\n",
    "\n",
    "v1_count = 0\n",
    "for voter in range(0, n_voters):\n",
    "    this_vote = np.random.permutation(c_candidates)\n",
    "    borda_count_I = increment_borda_count(this_vote, borda_count_I)\n",
    "    borda_count_S = sum_to_borda_count(this_vote, borda_count_S)\n",
    "#print('borda_count = {}'.format(borda_count))\n",
    "\n",
    "if expect_total_count != sum(borda_count_I):\n",
    "    print('\\t\\t\\tBUG borda_count_I')\n",
    "if expect_total_count != sum(borda_count_S):\n",
    "    print('\\t\\t\\tBUG borda_count_S')\n",
    "\n",
    "print('Expected total {} vs I: {} vs S: {}'.format(expect_total_count, sum(borda_count_I), sum(borda_count_S)))"
   ]
  },
  {
   "cell_type": "code",
   "execution_count": 5,
   "metadata": {
    "collapsed": false
   },
   "outputs": [],
   "source": [
    "def increment_borda_count(vote, borda_count):\n",
    "    \"\"\" incrementally update the Borda count by one vote\n",
    "    \n",
    "    Args:\n",
    "        vote: ranking array of same size as borda_count 0 is considerd first, 2 second,...\n",
    "        borda_count: the current running total of Borda weighted votes\n",
    "    \n",
    "    Returns:\n",
    "        borda_count: Borda weighted votes with the input vote added\n",
    "    \"\"\"\n",
    "    rank_array = sorted(np.arange(0, len(vote)) + 1, reverse=True)\n",
    "    for n in range(0, len(rank_array)):\n",
    "        borda_count[n] = borda_count[n] + rank_array[vote[n]]\n",
    "    \n",
    "    return borda_count"
   ]
  },
  {
   "cell_type": "code",
   "execution_count": 6,
   "metadata": {
    "collapsed": true
   },
   "outputs": [],
   "source": [
    "def sum_to_borda_count(vote, borda_count):\n",
    "    \"\"\" incrementally update the Borda count by one vote\n",
    "    \n",
    "    Args:\n",
    "        vote: (np.int_(vote)) python rank array same size as borda_count (0 == first, 1 == second,...)\n",
    "        borda_count: (np.int_(borda_count) ) the current running total of Borda weighted votes\n",
    "    \n",
    "    Returns:\n",
    "        borda_count: input borda_count with the weighted votes added\n",
    "    \"\"\"\n",
    "    rank_array = np.int_(sorted(np.arange(0, len(vote)) + 1, reverse=True))\n",
    "    borda_count += rank_array[np.int_(vote)]\n",
    "    \n",
    "    return borda_count"
   ]
  },
  {
   "cell_type": "code",
   "execution_count": 7,
   "metadata": {
    "collapsed": false
   },
   "outputs": [
    {
     "name": "stdout",
     "output_type": "stream",
     "text": [
      "perm: [0 2 3 1] w 4 elements eg:\n",
      "[0 2 3 1] in\n",
      "[0 1 2 3 4]\n",
      "borda_count:\t\t[0 0 0 0 0]\n",
      "vote_rank:\t\t[3 1 0 2]\n",
      "permutaiton:\t\t[2 4 0 1]\n",
      "\n",
      "borda_count:\t\t[4 2 1 0 3]\n",
      "vote_rank:\t\t[3 2 1 0]\n",
      "permutaiton:\t\t[2 4 0 1]\n",
      "\n",
      "borda_count:\t\t[7 6 2 0 5]\n",
      "vote_rank:\t\t[1 0 2 3]\n",
      "permutaiton:\t\t[0 4 3 2]\n",
      "\n",
      "borda_count:\t\t[10  6  3  2  9]\n",
      "vote_rank:\t\t[0 1 3 2]\n",
      "permutaiton:\t\t[1 0 4 3]\n",
      "\n",
      "borda_count:\t\t[13 10  3  4 10]\n",
      "vote_rank:\t\t[0 1 2 3]\n",
      "permutaiton:\t\t[2 0 3 1]\n",
      "\n",
      "borda_count sum:\t[16 11  7  6 10]\n",
      "\n"
     ]
    }
   ],
   "source": [
    "#              generate random demonstration data for inspection - mathematical reasoning check:\n",
    "n_trials = 5\n",
    "property_size = 5\n",
    "ord_list = np.arange(0,property_size)\n",
    "sample_fraction = 0.8\n",
    "sample_size = round(sample_fraction * property_size)\n",
    "sample_perm = np.random.permutation(property_size)\n",
    "sample_perm = sample_perm[0:sample_size]\n",
    "print('perm: {} w {} elements eg:\\n{} in\\n{}'.format(sample_perm, len(sample_perm), ord_list[sample_perm], ord_list))\n",
    "\n",
    "borda_count = np.int_(np.zeros(property_size))\n",
    "for doda in range(0, n_trials):\n",
    "    sample_perm = np.random.permutation(property_size)\n",
    "    sample_perm = sample_perm[0:sample_size]\n",
    "    vote_rank = np.random.permutation(sample_size)\n",
    "    print('borda_count:\\t\\t{}\\nvote_rank:\\t\\t{}\\npermutaiton:\\t\\t{}\\n'.format(borda_count, vote_rank, sample_perm))\n",
    "    borda_count = sum_permutation_to_borda_count(borda_count, vote_rank, sample_perm)\n",
    "    \n",
    "print('borda_count sum:\\t{}\\n'.format(borda_count))"
   ]
  },
  {
   "cell_type": "code",
   "execution_count": null,
   "metadata": {
    "collapsed": true
   },
   "outputs": [],
   "source": []
  }
 ],
 "metadata": {
  "anaconda-cloud": {},
  "kernelspec": {
   "display_name": "Python [Root]",
   "language": "python",
   "name": "Python [Root]"
  },
  "language_info": {
   "codemirror_mode": {
    "name": "ipython",
    "version": 3
   },
   "file_extension": ".py",
   "mimetype": "text/x-python",
   "name": "python",
   "nbconvert_exporter": "python",
   "pygments_lexer": "ipython3",
   "version": "3.5.2"
  }
 },
 "nbformat": 4,
 "nbformat_minor": 0
}
