{
 "cells": [
  {
   "cell_type": "code",
   "execution_count": 1,
   "metadata": {
    "collapsed": true
   },
   "outputs": [],
   "source": [
    "import numpy as np\n",
    "import pandas as pd\n",
    "from scipy.stats import pearsonr as pcc\n",
    "\n",
    "import knpackage.toolbox as kn\n",
    "\n",
    "import gene_prioritization_toolbox as gpt"
   ]
  },
  {
   "cell_type": "code",
   "execution_count": 12,
   "metadata": {
    "collapsed": true
   },
   "outputs": [],
   "source": [
    "def get_consolodated_dataframe(gene_samples_df, drug_samples_df):\n",
    "    genes_list = gene_samples_df.index.values.tolist()\n",
    "    drugs_list = drug_samples_df.index.values.tolist()\n",
    "    consolo_df = pd.DataFrame(gene_samples_df.as_matrix(), index=genes_list, columns=gene_samples_df.columns.values)\n",
    "    consolo_df = consolo_df.append(drug_samples_df)\n",
    "    \n",
    "    return genes_list, drugs_list, consolo_df"
   ]
  },
  {
   "cell_type": "code",
   "execution_count": 13,
   "metadata": {
    "collapsed": true
   },
   "outputs": [],
   "source": [
    "def get_clean_df_numerical_data(consolo_df, genes_list, drug_name):\n",
    "    names_selector = genes_list.copy()\n",
    "    names_selector.insert(0, drug_name)\n",
    "    tmp_df = consolo_df.loc[names_selector]\n",
    "    tmp_df = tmp_df.dropna(axis=1)\n",
    "    spreadsheet_matrix = tmp_df.as_matrix()[1:,:]\n",
    "    drug_array = np.array([tmp_df.as_matrix()[0, :]])\n",
    "    \n",
    "    return drug_array, spreadsheet_matrix"
   ]
  },
  {
   "cell_type": "code",
   "execution_count": 4,
   "metadata": {
    "collapsed": true
   },
   "outputs": [],
   "source": [
    "# set the run parameters needed to open the files\n",
    "run_parameters = {'dummy_pars': 'not_a_parameter'}\n",
    "run_parameters[\"spreadsheet_name_full_path\"] = 'GDSC_Expression_ensembl.df'\n",
    "run_parameters[\"drug_response_full_path\"] = 'GDSC_drug_cpd_ic50_sorted.df'\n",
    "\n",
    "spreadsheet_df = kn.get_spreadsheet_df(run_parameters[\"spreadsheet_name_full_path\"])\n",
    "drug_response_df = kn.get_spreadsheet_df(run_parameters[\"drug_response_full_path\"])"
   ]
  },
  {
   "cell_type": "code",
   "execution_count": 14,
   "metadata": {
    "collapsed": false
   },
   "outputs": [
    {
     "name": "stdout",
     "output_type": "stream",
     "text": [
      "17-AAG\n",
      "599\n",
      "(13042, 599)\n"
     ]
    }
   ],
   "source": [
    "genes_list, drugs_list, consolo_df = get_consolodated_dataframe(spreadsheet_df, drug_response_df)\n",
    "drug_name = drugs_list[0]\n",
    "print(drug_name)\n",
    "drug_array, spreadsheet_matrix = get_clean_df_numerical_data(consolo_df, genes_list, drug_name)\n",
    "print(drug_array.size)\n",
    "print(spreadsheet_matrix.shape)"
   ]
  },
  {
   "cell_type": "code",
   "execution_count": null,
   "metadata": {
    "collapsed": true
   },
   "outputs": [],
   "source": []
  },
  {
   "cell_type": "code",
   "execution_count": null,
   "metadata": {
    "collapsed": true
   },
   "outputs": [],
   "source": []
  },
  {
   "cell_type": "code",
   "execution_count": 6,
   "metadata": {
    "collapsed": false
   },
   "outputs": [
    {
     "name": "stdout",
     "output_type": "stream",
     "text": [
      "spreadsheet size: (13042, 624)\n",
      "drug sheet size: (140, 624)\n",
      "composite size: (13182, 624)\n"
     ]
    }
   ],
   "source": [
    "gene_selection_list = spreadsheet_df.index.values.tolist()\n",
    "drug_selection_list = drug_response_df.index.values.tolist()\n",
    "gene_drug_df = pd.DataFrame(spreadsheet_df.as_matrix(),\n",
    "                            index=gene_selection_list,\n",
    "                            columns=spreadsheet_df.columns.values)\n",
    "gene_drug_df = gene_drug_df.append(drug_response_df)\n",
    "print('spreadsheet size: {}\\ndrug sheet size: {}\\ncomposite size: {}'.format(\n",
    "        spreadsheet_df.shape, drug_response_df.shape, gene_drug_df.shape))"
   ]
  },
  {
   "cell_type": "code",
   "execution_count": 9,
   "metadata": {
    "collapsed": false
   },
   "outputs": [
    {
     "name": "stdout",
     "output_type": "stream",
     "text": [
      "<class 'list'>\n",
      "<class 'list'>\n",
      "<class 'list'>\n",
      "<class 'list'>\n",
      "13043\n"
     ]
    },
    {
     "data": {
      "text/plain": [
       "['17-AAG',\n",
       " 'ENSG00000153253',\n",
       " 'LRG_421',\n",
       " 'ENSG00000274058',\n",
       " 'ENSG00000177600',\n",
       " 'ENSG00000127554',\n",
       " 'RBM35A',\n",
       " 'RBM35B',\n",
       " 'ENSG00000064726',\n",
       " 'ENSG00000133243']"
      ]
     },
     "execution_count": 9,
     "metadata": {},
     "output_type": "execute_result"
    }
   ],
   "source": [
    "print(type(gene_selection_list))\n",
    "print(type(drug_selection_list))\n",
    "drug_N_selector = gene_selection_list.copy()\n",
    "print(type(drug_N_selector))\n",
    "#drug_N_selector.extend(drug_selection_list)\n",
    "drug_N_selector.insert(0, drug_selection_list[0])\n",
    "print(type(drug_N_selector))\n",
    "print(len(drug_N_selector))\n",
    "drug_N_selector[0:10]"
   ]
  },
  {
   "cell_type": "code",
   "execution_count": 11,
   "metadata": {
    "collapsed": false
   },
   "outputs": [
    {
     "name": "stdout",
     "output_type": "stream",
     "text": [
      "(13043, 624)\n",
      "<class 'pandas.core.frame.DataFrame'>\n",
      "(13043, 599)\n",
      "<class 'pandas.core.frame.DataFrame'>\n",
      "(13042, 599)\n",
      "(1, 599)\n"
     ]
    }
   ],
   "source": [
    "tmp_df = gene_drug_df.loc[drug_N_selector]\n",
    "print(tmp_df.shape)\n",
    "print(type(tmp_df))\n",
    "tmp_df = tmp_df.dropna(axis=1)\n",
    "print(tmp_df.shape)\n",
    "print(type(tmp_df))\n",
    "gene_sample_matrix = tmp_df.as_matrix()[1:,:]\n",
    "print(gene_sample_matrix.shape)\n",
    "drug_array = np.array([tmp_df.as_matrix()[0,:]])\n",
    "print(drug_array.shape)"
   ]
  },
  {
   "cell_type": "code",
   "execution_count": null,
   "metadata": {
    "collapsed": true
   },
   "outputs": [],
   "source": []
  },
  {
   "cell_type": "code",
   "execution_count": null,
   "metadata": {
    "collapsed": true
   },
   "outputs": [],
   "source": []
  },
  {
   "cell_type": "code",
   "execution_count": 11,
   "metadata": {
    "collapsed": false
   },
   "outputs": [
    {
     "name": "stdout",
     "output_type": "stream",
     "text": [
      "M.shape: (15, 5)\n",
      "N.shape: (15, 5)\n"
     ]
    }
   ],
   "source": [
    "M = np.random.randn(15,5)\n",
    "N = M.copy()\n",
    "N = N.reshape(N.shape[0],-1)\n",
    "print('M.shape: {}\\nN.shape: {}'.format(M.shape, N.shape))"
   ]
  },
  {
   "cell_type": "code",
   "execution_count": 15,
   "metadata": {
    "collapsed": false
   },
   "outputs": [
    {
     "data": {
      "text/plain": [
       "array([[1, 1, 1, 1, 1],\n",
       "       [1, 1, 1, 1, 1],\n",
       "       [1, 1, 1, 1, 1],\n",
       "       [1, 1, 1, 1, 1],\n",
       "       [1, 1, 1, 1, 1],\n",
       "       [1, 1, 1, 1, 1],\n",
       "       [1, 1, 1, 1, 1],\n",
       "       [1, 1, 1, 1, 1],\n",
       "       [1, 1, 1, 1, 1],\n",
       "       [1, 1, 1, 1, 1],\n",
       "       [1, 1, 1, 1, 1],\n",
       "       [1, 1, 1, 1, 1],\n",
       "       [1, 1, 1, 1, 1],\n",
       "       [1, 1, 1, 1, 1],\n",
       "       [1, 1, 1, 1, 1]])"
      ]
     },
     "execution_count": 15,
     "metadata": {},
     "output_type": "execute_result"
    }
   ],
   "source": [
    "np.int_(M == N)"
   ]
  },
  {
   "cell_type": "code",
   "execution_count": null,
   "metadata": {
    "collapsed": false
   },
   "outputs": [],
   "source": []
  },
  {
   "cell_type": "code",
   "execution_count": null,
   "metadata": {
    "collapsed": true
   },
   "outputs": [],
   "source": []
  },
  {
   "cell_type": "code",
   "execution_count": null,
   "metadata": {
    "collapsed": true
   },
   "outputs": [],
   "source": []
  },
  {
   "cell_type": "code",
   "execution_count": null,
   "metadata": {
    "collapsed": true
   },
   "outputs": [],
   "source": []
  },
  {
   "cell_type": "code",
   "execution_count": null,
   "metadata": {
    "collapsed": true
   },
   "outputs": [],
   "source": []
  },
  {
   "cell_type": "code",
   "execution_count": null,
   "metadata": {
    "collapsed": true
   },
   "outputs": [],
   "source": []
  },
  {
   "cell_type": "code",
   "execution_count": null,
   "metadata": {
    "collapsed": true
   },
   "outputs": [],
   "source": []
  },
  {
   "cell_type": "code",
   "execution_count": null,
   "metadata": {
    "collapsed": true
   },
   "outputs": [],
   "source": []
  },
  {
   "cell_type": "code",
   "execution_count": null,
   "metadata": {
    "collapsed": true
   },
   "outputs": [],
   "source": []
  },
  {
   "cell_type": "code",
   "execution_count": null,
   "metadata": {
    "collapsed": true
   },
   "outputs": [],
   "source": []
  },
  {
   "cell_type": "code",
   "execution_count": null,
   "metadata": {
    "collapsed": true
   },
   "outputs": [],
   "source": []
  },
  {
   "cell_type": "code",
   "execution_count": null,
   "metadata": {
    "collapsed": true
   },
   "outputs": [],
   "source": []
  },
  {
   "cell_type": "code",
   "execution_count": null,
   "metadata": {
    "collapsed": true
   },
   "outputs": [],
   "source": []
  },
  {
   "cell_type": "code",
   "execution_count": null,
   "metadata": {
    "collapsed": true
   },
   "outputs": [],
   "source": []
  },
  {
   "cell_type": "code",
   "execution_count": null,
   "metadata": {
    "collapsed": true
   },
   "outputs": [],
   "source": []
  },
  {
   "cell_type": "code",
   "execution_count": null,
   "metadata": {
    "collapsed": true
   },
   "outputs": [],
   "source": []
  },
  {
   "cell_type": "code",
   "execution_count": null,
   "metadata": {
    "collapsed": true
   },
   "outputs": [],
   "source": []
  },
  {
   "cell_type": "code",
   "execution_count": null,
   "metadata": {
    "collapsed": true
   },
   "outputs": [],
   "source": []
  },
  {
   "cell_type": "code",
   "execution_count": null,
   "metadata": {
    "collapsed": true
   },
   "outputs": [],
   "source": []
  },
  {
   "cell_type": "code",
   "execution_count": null,
   "metadata": {
    "collapsed": true
   },
   "outputs": [],
   "source": []
  },
  {
   "cell_type": "code",
   "execution_count": null,
   "metadata": {
    "collapsed": true
   },
   "outputs": [],
   "source": []
  },
  {
   "cell_type": "code",
   "execution_count": null,
   "metadata": {
    "collapsed": true
   },
   "outputs": [],
   "source": []
  },
  {
   "cell_type": "code",
   "execution_count": null,
   "metadata": {
    "collapsed": true
   },
   "outputs": [],
   "source": []
  }
 ],
 "metadata": {
  "anaconda-cloud": {},
  "kernelspec": {
   "display_name": "Python [Root]",
   "language": "python",
   "name": "Python [Root]"
  },
  "language_info": {
   "codemirror_mode": {
    "name": "ipython",
    "version": 3
   },
   "file_extension": ".py",
   "mimetype": "text/x-python",
   "name": "python",
   "nbconvert_exporter": "python",
   "pygments_lexer": "ipython3",
   "version": "3.5.2"
  }
 },
 "nbformat": 4,
 "nbformat_minor": 0
}
