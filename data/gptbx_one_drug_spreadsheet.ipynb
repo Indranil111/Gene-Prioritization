{
 "cells": [
  {
   "cell_type": "code",
   "execution_count": 1,
   "metadata": {
    "collapsed": true
   },
   "outputs": [],
   "source": [
    "import os\n",
    "import time\n",
    "import numpy as np\n",
    "import pandas as pd\n",
    "\n",
    "from scipy.stats import pearsonr as pcc\n",
    "from scipy.stats.mstats import zscore\n",
    "from sklearn.preprocessing import normalize\n",
    "from sklearn.linear_model import LassoCV\n",
    "\n",
    "import knpackage.toolbox as kn\n",
    "#import gene_rank_tbx as grt\n",
    "#                                 spreadsheet_df.loc[gene_names].fillna(0)"
   ]
  },
  {
   "cell_type": "code",
   "execution_count": 2,
   "metadata": {
    "collapsed": true
   },
   "outputs": [],
   "source": [
    "def get_consolodated_dataframe(gene_samples_df, drug_samples_df):\n",
    "    \"\"\"    \"\"\"\n",
    "    genes_list = gene_samples_df.index.values.tolist()\n",
    "    drugs_list = drug_samples_df.index.values.tolist()\n",
    "    consolodated_df = pd.DataFrame(\n",
    "        gene_samples_df.as_matrix(), index=genes_list, columns=gene_samples_df.columns.values)\n",
    "    consolodated_df = consolodated_df.append(drug_samples_df)\n",
    "    result_pad_df = pd.DataFrame(None, index=drugs_list, columns=range(0,len(genes_list))).fillna('NA')\n",
    "    \n",
    "    return genes_list, drugs_list, consolodated_df, result_pad_df"
   ]
  },
  {
   "cell_type": "code",
   "execution_count": 3,
   "metadata": {
    "collapsed": true
   },
   "outputs": [],
   "source": [
    "def get_clean_df_numerical_data(consolodated_dataframe, genes_list, drug_name):\n",
    "    \"\"\"     \"\"\"\n",
    "    names_selector = genes_list.copy()\n",
    "    names_selector.insert(0, drug_name)\n",
    "    tmp_df = consolodated_dataframe.loc[names_selector]\n",
    "    tmp_df = tmp_df.dropna(axis=1)\n",
    "    drug_array = np.array([tmp_df.as_matrix()[0, :]])\n",
    "    tmp_df = tmp_df.drop(drug_name)\n",
    "    spreadsheet_matrix = tmp_df.as_matrix()\n",
    "    sample_names = tmp_df.columns.values\n",
    "    \n",
    "    return drug_array, spreadsheet_matrix, sample_names"
   ]
  },
  {
   "cell_type": "code",
   "execution_count": 4,
   "metadata": {
    "collapsed": false
   },
   "outputs": [],
   "source": [
    "#                               set the run parameters\n",
    "run_parameters = {'Start_time': time.strftime(\"%a_%d_%b_%Y_%H_%M_%S\", time.localtime())}\n",
    "base_directory = '/Users/lanier4/PycharmProjects/Gene_Prioritization_Pipeline/data/'\n",
    "run_parameters['results_directory'] = base_directory\n",
    "\n",
    "run_parameters[\"spreadsheet_name_full_path\"] = os.path.join(base_directory,\n",
    "                                                            'spreadsheets/GDSC_Expression_ensembl.df')\n",
    "run_parameters[\"drug_response_full_path\"] = os.path.join(base_directory,\n",
    "                                                         'spreadsheets/GDSC_drug_cpd_ic50_sorted.df')\n",
    "run_parameters['gg_network_name_full_path'] = os.path.join(base_directory, 'networks/STRING_experimental.tsv')\n",
    "\n",
    "# correlation, net_correlation, bootstrap_correlation, bootstrap_net_correlation\n",
    "run_parameters['method'] = \"net_correlation\"\n",
    "# pearson, lasso\n",
    "run_parameters['correlation_method'] = \"pearson\"\n",
    "run_parameters['number_of_bootstraps'] = 1\n",
    "run_parameters['rows_sampling_fraction'] = 1.0\n",
    "run_parameters['cols_sampling_fraction'] = 1.0\n",
    "run_parameters['rwr_max_iterations'] = 100\n",
    "run_parameters['rwr_convergence_tolerence'] = 1.0e-8\n",
    "run_parameters['rwr_restart_probability'] = 0.5\n",
    "run_parameters['top_beta_of_sort'] = 0.8\n",
    "\n",
    "run_parameters['results_file_name'] = 'less_samples'"
   ]
  },
  {
   "cell_type": "code",
   "execution_count": 5,
   "metadata": {
    "collapsed": false
   },
   "outputs": [
    {
     "data": {
      "text/plain": [
       "'17-AAG'"
      ]
     },
     "execution_count": 5,
     "metadata": {},
     "output_type": "execute_result"
    }
   ],
   "source": [
    "spreadsheet_df = kn.get_spreadsheet_df(run_parameters[\"spreadsheet_name_full_path\"])\n",
    "drug_response_df = kn.get_spreadsheet_df(run_parameters[\"drug_response_full_path\"])\n",
    "genes_list, drugs_list, consolodated_df, result_pad_df = get_consolodated_dataframe(spreadsheet_df, drug_response_df)\n",
    "\n",
    "drug_name = drugs_list[0]\n",
    "drug_name"
   ]
  },
  {
   "cell_type": "code",
   "execution_count": 8,
   "metadata": {
    "collapsed": false
   },
   "outputs": [],
   "source": [
    "drug_array, spreadsheet_matrix, sample_names = get_clean_df_numerical_data(consolodated_df, genes_list, drug_name)\n",
    "spreadsheet_for_drug_df = pd.DataFrame(spreadsheet_matrix, index=genes_list, columns=sample_names)\n",
    "drug_for_spreadsheet_df = pd.DataFrame(drug_array, index={drug_name}, columns=sample_names)"
   ]
  },
  {
   "cell_type": "code",
   "execution_count": 10,
   "metadata": {
    "collapsed": false
   },
   "outputs": [
    {
     "name": "stdout",
     "output_type": "stream",
     "text": [
      "ho_ho_ho\n"
     ]
    }
   ],
   "source": [
    "print(write_spreadsheet_drug_dataframes(consolodated_df, genes_list, drug_name))"
   ]
  },
  {
   "cell_type": "code",
   "execution_count": 9,
   "metadata": {
    "collapsed": true
   },
   "outputs": [],
   "source": [
    "def write_spreadsheet_drug_dataframes(consolodated_df, genes_list, drug_name):\n",
    "    drug_array, spreadsheet_matrix, sample_names = get_clean_df_numerical_data(consolodated_df, genes_list, drug_name)\n",
    "    spreadsheet_for_drug_df = pd.DataFrame(spreadsheet_matrix, index=genes_list, columns=sample_names)\n",
    "    drug_for_spreadsheet_df = pd.DataFrame(drug_array, index={drug_name}, columns=sample_names)\n",
    "    spreadsheet_file_name = drug_name + '_gene_expression.tsv'\n",
    "    drug_file_name = drug_name + '_single_drug_response.tsv'\n",
    "    spreadsheet_for_drug_df.to_csv(spreadsheet_file_name, sep='\\t')\n",
    "    drug_for_spreadsheet_df.to_csv(drug_file_name, sep='\\t')\n",
    "    \n",
    "    return 'ho_ho_ho'"
   ]
  },
  {
   "cell_type": "code",
   "execution_count": 11,
   "metadata": {
    "collapsed": false
   },
   "outputs": [
    {
     "data": {
      "text/plain": [
       "0.006414779652318943"
      ]
     },
     "execution_count": 11,
     "metadata": {},
     "output_type": "execute_result"
    }
   ],
   "source": [
    "BETA_100 = 100 / 15589\n",
    "BETA_100"
   ]
  },
  {
   "cell_type": "code",
   "execution_count": null,
   "metadata": {
    "collapsed": true
   },
   "outputs": [],
   "source": []
  },
  {
   "cell_type": "code",
   "execution_count": null,
   "metadata": {
    "collapsed": true
   },
   "outputs": [],
   "source": []
  },
  {
   "cell_type": "code",
   "execution_count": null,
   "metadata": {
    "collapsed": true
   },
   "outputs": [],
   "source": []
  },
  {
   "cell_type": "code",
   "execution_count": null,
   "metadata": {
    "collapsed": true
   },
   "outputs": [],
   "source": []
  },
  {
   "cell_type": "code",
   "execution_count": null,
   "metadata": {
    "collapsed": true
   },
   "outputs": [],
   "source": []
  },
  {
   "cell_type": "code",
   "execution_count": null,
   "metadata": {
    "collapsed": true
   },
   "outputs": [],
   "source": []
  },
  {
   "cell_type": "code",
   "execution_count": null,
   "metadata": {
    "collapsed": true
   },
   "outputs": [],
   "source": []
  },
  {
   "cell_type": "code",
   "execution_count": null,
   "metadata": {
    "collapsed": true
   },
   "outputs": [],
   "source": []
  },
  {
   "cell_type": "code",
   "execution_count": null,
   "metadata": {
    "collapsed": true
   },
   "outputs": [],
   "source": []
  },
  {
   "cell_type": "code",
   "execution_count": null,
   "metadata": {
    "collapsed": true
   },
   "outputs": [],
   "source": []
  },
  {
   "cell_type": "code",
   "execution_count": null,
   "metadata": {
    "collapsed": true
   },
   "outputs": [],
   "source": []
  },
  {
   "cell_type": "code",
   "execution_count": null,
   "metadata": {
    "collapsed": true
   },
   "outputs": [],
   "source": []
  },
  {
   "cell_type": "code",
   "execution_count": null,
   "metadata": {
    "collapsed": true
   },
   "outputs": [],
   "source": []
  },
  {
   "cell_type": "code",
   "execution_count": null,
   "metadata": {
    "collapsed": true
   },
   "outputs": [],
   "source": []
  },
  {
   "cell_type": "code",
   "execution_count": null,
   "metadata": {
    "collapsed": true
   },
   "outputs": [],
   "source": []
  },
  {
   "cell_type": "code",
   "execution_count": null,
   "metadata": {
    "collapsed": true
   },
   "outputs": [],
   "source": []
  }
 ],
 "metadata": {
  "anaconda-cloud": {},
  "kernelspec": {
   "display_name": "Python [default]",
   "language": "python",
   "name": "python3"
  },
  "language_info": {
   "codemirror_mode": {
    "name": "ipython",
    "version": 3
   },
   "file_extension": ".py",
   "mimetype": "text/x-python",
   "name": "python",
   "nbconvert_exporter": "python",
   "pygments_lexer": "ipython3",
   "version": "3.5.2"
  }
 },
 "nbformat": 4,
 "nbformat_minor": 0
}
